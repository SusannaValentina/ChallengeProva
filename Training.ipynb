{
 "metadata": {
  "language_info": {
   "codemirror_mode": {
    "name": "ipython",
    "version": 3
   },
   "file_extension": ".py",
   "mimetype": "text/x-python",
   "name": "python",
   "nbconvert_exporter": "python",
   "pygments_lexer": "ipython3",
   "version": "3.9.2"
  },
  "orig_nbformat": 2,
  "kernelspec": {
   "name": "python392jvsc74a57bd064bc7a045511d70f24bcbacd0b476d6db2c397a5d8e58ccd2b3576b906af12b8",
   "display_name": "Python 3.9.2 64-bit"
  },
  "metadata": {
   "interpreter": {
    "hash": "64bc7a045511d70f24bcbacd0b476d6db2c397a5d8e58ccd2b3576b906af12b8"
   }
  }
 },
 "nbformat": 4,
 "nbformat_minor": 2,
 "cells": [
  {
   "cell_type": "code",
   "execution_count": 77,
   "metadata": {},
   "outputs": [],
   "source": [
    "import pandas as pd \n",
    "\n",
    "# dati da leggere\n",
    "train_raw = pd.read_csv(\"./train.csv\")\n",
    "test_raw = pd.read_csv(\"./test.csv\")"
   ]
  },
  {
   "cell_type": "code",
   "execution_count": 78,
   "metadata": {},
   "outputs": [],
   "source": [
    "# Trasformo da lettere a numeri\n",
    "from sklearn.preprocessing import LabelEncoder\n",
    "le = LabelEncoder()\n",
    "\n",
    "for i in train_raw.columns:\n",
    "    train_raw[i] = le.fit_transform(train_raw[i])\n",
    "\n",
    "for i in test_raw.columns:\n",
    "    test_raw[i] = le.fit_transform(test_raw[i])"
   ]
  },
  {
   "cell_type": "code",
   "execution_count": 79,
   "metadata": {},
   "outputs": [],
   "source": [
    "# Using MinMaxScaler() to Normalize Data in range(0,1)\n",
    "from sklearn.preprocessing import MinMaxScaler\n",
    "\n",
    "scaler = MinMaxScaler()\n",
    "names = train_raw.columns    # nomi colonne\n",
    "d = scaler.fit_transform(train_raw)\n",
    "train = pd.DataFrame(d, columns=names)\n",
    "\n",
    "names = train.columns\n",
    "d = scaler.fit_transform(test_raw)\n",
    "test = pd.DataFrame(d, columns=names)\n"
   ]
  },
  {
   "cell_type": "code",
   "execution_count": 80,
   "metadata": {},
   "outputs": [
    {
     "output_type": "execute_result",
     "data": {
      "text/plain": [
       "   class  cap-shape  cap-surface  cap-color  bruises   odor  gill-attachment  \\\n",
       "0    0.0        0.4     0.000000   0.444444      0.0  0.625              1.0   \n",
       "1    1.0        0.0     1.000000   0.000000      1.0  0.625              1.0   \n",
       "2    1.0        0.6     0.666667   0.444444      0.0  0.875              1.0   \n",
       "3    0.0        1.0     0.666667   0.444444      1.0  0.625              1.0   \n",
       "4    0.0        0.4     0.000000   0.888889      0.0  0.625              1.0   \n",
       "\n",
       "   gill-spacing  gill-size  gill-color  ...  stalk-surface-below-ring  \\\n",
       "0           1.0        0.0    0.272727  ...                  0.000000   \n",
       "1           0.0        0.0    0.727273  ...                  0.666667   \n",
       "2           0.0        1.0    0.000000  ...                  0.666667   \n",
       "3           0.0        0.0    0.909091  ...                  0.666667   \n",
       "4           1.0        0.0    0.454545  ...                  0.000000   \n",
       "\n",
       "   stalk-color-above-ring  stalk-color-below-ring  veil-type  veil-color  \\\n",
       "0                   0.875                   0.875        0.0    0.666667   \n",
       "1                   0.875                   0.875        0.0    0.666667   \n",
       "2                   0.875                   0.750        0.0    0.666667   \n",
       "3                   0.875                   0.875        0.0    0.666667   \n",
       "4                   0.875                   0.875        0.0    0.666667   \n",
       "\n",
       "   ring-number  ring-type  spore-print-color  population   habitat  \n",
       "0          0.5        0.0              0.250         0.6  0.166667  \n",
       "1          1.0        1.0              0.625         0.8  0.500000  \n",
       "2          0.5        0.0              0.875         0.8  0.000000  \n",
       "3          1.0        1.0              0.875         0.8  0.666667  \n",
       "4          0.5        0.0              0.375         0.0  0.166667  \n",
       "\n",
       "[5 rows x 23 columns]"
      ],
      "text/html": "<div>\n<style scoped>\n    .dataframe tbody tr th:only-of-type {\n        vertical-align: middle;\n    }\n\n    .dataframe tbody tr th {\n        vertical-align: top;\n    }\n\n    .dataframe thead th {\n        text-align: right;\n    }\n</style>\n<table border=\"1\" class=\"dataframe\">\n  <thead>\n    <tr style=\"text-align: right;\">\n      <th></th>\n      <th>class</th>\n      <th>cap-shape</th>\n      <th>cap-surface</th>\n      <th>cap-color</th>\n      <th>bruises</th>\n      <th>odor</th>\n      <th>gill-attachment</th>\n      <th>gill-spacing</th>\n      <th>gill-size</th>\n      <th>gill-color</th>\n      <th>...</th>\n      <th>stalk-surface-below-ring</th>\n      <th>stalk-color-above-ring</th>\n      <th>stalk-color-below-ring</th>\n      <th>veil-type</th>\n      <th>veil-color</th>\n      <th>ring-number</th>\n      <th>ring-type</th>\n      <th>spore-print-color</th>\n      <th>population</th>\n      <th>habitat</th>\n    </tr>\n  </thead>\n  <tbody>\n    <tr>\n      <th>0</th>\n      <td>0.0</td>\n      <td>0.4</td>\n      <td>0.000000</td>\n      <td>0.444444</td>\n      <td>0.0</td>\n      <td>0.625</td>\n      <td>1.0</td>\n      <td>1.0</td>\n      <td>0.0</td>\n      <td>0.272727</td>\n      <td>...</td>\n      <td>0.000000</td>\n      <td>0.875</td>\n      <td>0.875</td>\n      <td>0.0</td>\n      <td>0.666667</td>\n      <td>0.5</td>\n      <td>0.0</td>\n      <td>0.250</td>\n      <td>0.6</td>\n      <td>0.166667</td>\n    </tr>\n    <tr>\n      <th>1</th>\n      <td>1.0</td>\n      <td>0.0</td>\n      <td>1.000000</td>\n      <td>0.000000</td>\n      <td>1.0</td>\n      <td>0.625</td>\n      <td>1.0</td>\n      <td>0.0</td>\n      <td>0.0</td>\n      <td>0.727273</td>\n      <td>...</td>\n      <td>0.666667</td>\n      <td>0.875</td>\n      <td>0.875</td>\n      <td>0.0</td>\n      <td>0.666667</td>\n      <td>1.0</td>\n      <td>1.0</td>\n      <td>0.625</td>\n      <td>0.8</td>\n      <td>0.500000</td>\n    </tr>\n    <tr>\n      <th>2</th>\n      <td>1.0</td>\n      <td>0.6</td>\n      <td>0.666667</td>\n      <td>0.444444</td>\n      <td>0.0</td>\n      <td>0.875</td>\n      <td>1.0</td>\n      <td>0.0</td>\n      <td>1.0</td>\n      <td>0.000000</td>\n      <td>...</td>\n      <td>0.666667</td>\n      <td>0.875</td>\n      <td>0.750</td>\n      <td>0.0</td>\n      <td>0.666667</td>\n      <td>0.5</td>\n      <td>0.0</td>\n      <td>0.875</td>\n      <td>0.8</td>\n      <td>0.000000</td>\n    </tr>\n    <tr>\n      <th>3</th>\n      <td>0.0</td>\n      <td>1.0</td>\n      <td>0.666667</td>\n      <td>0.444444</td>\n      <td>1.0</td>\n      <td>0.625</td>\n      <td>1.0</td>\n      <td>0.0</td>\n      <td>0.0</td>\n      <td>0.909091</td>\n      <td>...</td>\n      <td>0.666667</td>\n      <td>0.875</td>\n      <td>0.875</td>\n      <td>0.0</td>\n      <td>0.666667</td>\n      <td>1.0</td>\n      <td>1.0</td>\n      <td>0.875</td>\n      <td>0.8</td>\n      <td>0.666667</td>\n    </tr>\n    <tr>\n      <th>4</th>\n      <td>0.0</td>\n      <td>0.4</td>\n      <td>0.000000</td>\n      <td>0.888889</td>\n      <td>0.0</td>\n      <td>0.625</td>\n      <td>1.0</td>\n      <td>1.0</td>\n      <td>0.0</td>\n      <td>0.454545</td>\n      <td>...</td>\n      <td>0.000000</td>\n      <td>0.875</td>\n      <td>0.875</td>\n      <td>0.0</td>\n      <td>0.666667</td>\n      <td>0.5</td>\n      <td>0.0</td>\n      <td>0.375</td>\n      <td>0.0</td>\n      <td>0.166667</td>\n    </tr>\n  </tbody>\n</table>\n<p>5 rows × 23 columns</p>\n</div>"
     },
     "metadata": {},
     "execution_count": 80
    }
   ],
   "source": [
    "train.head()"
   ]
  },
  {
   "cell_type": "code",
   "execution_count": 81,
   "metadata": {},
   "outputs": [
    {
     "output_type": "execute_result",
     "data": {
      "text/plain": [
       "   class  cap-shape  cap-surface  cap-color  bruises   odor  gill-attachment  \\\n",
       "0    1.0        1.0          1.0   0.444444      0.0  0.875              1.0   \n",
       "1    0.0        0.6          1.0   0.222222      1.0  0.625              1.0   \n",
       "2    1.0        0.4          1.0   0.333333      0.0  0.250              1.0   \n",
       "3    0.0        1.0          0.0   0.888889      0.0  0.625              1.0   \n",
       "4    0.0        0.4          0.5   0.444444      0.0  0.625              1.0   \n",
       "\n",
       "   gill-spacing  gill-size  gill-color  ...  stalk-surface-below-ring  \\\n",
       "0           0.0        1.0    0.000000  ...                  0.666667   \n",
       "1           0.0        0.0    0.909091  ...                  0.666667   \n",
       "2           0.0        0.0    0.181818  ...                  0.333333   \n",
       "3           1.0        0.0    0.636364  ...                  0.666667   \n",
       "4           1.0        0.0    0.636364  ...                  0.000000   \n",
       "\n",
       "   stalk-color-above-ring  stalk-color-below-ring  veil-type  veil-color  \\\n",
       "0                   0.875                   0.750        0.0    0.666667   \n",
       "1                   0.875                   0.875        0.0    0.666667   \n",
       "2                   0.000                   0.500        0.0    0.666667   \n",
       "3                   0.875                   0.875        0.0    0.666667   \n",
       "4                   0.875                   0.875        0.0    0.666667   \n",
       "\n",
       "   ring-number  ring-type  spore-print-color  population   habitat  \n",
       "0          0.5        0.0              0.875         0.8  0.666667  \n",
       "1          1.0        0.0              0.875         0.2  1.000000  \n",
       "2          0.5        0.5              0.125         0.8  0.166667  \n",
       "3          1.0        1.0              0.875         0.6  0.166667  \n",
       "4          0.5        0.0              0.375         0.0  0.166667  \n",
       "\n",
       "[5 rows x 23 columns]"
      ],
      "text/html": "<div>\n<style scoped>\n    .dataframe tbody tr th:only-of-type {\n        vertical-align: middle;\n    }\n\n    .dataframe tbody tr th {\n        vertical-align: top;\n    }\n\n    .dataframe thead th {\n        text-align: right;\n    }\n</style>\n<table border=\"1\" class=\"dataframe\">\n  <thead>\n    <tr style=\"text-align: right;\">\n      <th></th>\n      <th>class</th>\n      <th>cap-shape</th>\n      <th>cap-surface</th>\n      <th>cap-color</th>\n      <th>bruises</th>\n      <th>odor</th>\n      <th>gill-attachment</th>\n      <th>gill-spacing</th>\n      <th>gill-size</th>\n      <th>gill-color</th>\n      <th>...</th>\n      <th>stalk-surface-below-ring</th>\n      <th>stalk-color-above-ring</th>\n      <th>stalk-color-below-ring</th>\n      <th>veil-type</th>\n      <th>veil-color</th>\n      <th>ring-number</th>\n      <th>ring-type</th>\n      <th>spore-print-color</th>\n      <th>population</th>\n      <th>habitat</th>\n    </tr>\n  </thead>\n  <tbody>\n    <tr>\n      <th>0</th>\n      <td>1.0</td>\n      <td>1.0</td>\n      <td>1.0</td>\n      <td>0.444444</td>\n      <td>0.0</td>\n      <td>0.875</td>\n      <td>1.0</td>\n      <td>0.0</td>\n      <td>1.0</td>\n      <td>0.000000</td>\n      <td>...</td>\n      <td>0.666667</td>\n      <td>0.875</td>\n      <td>0.750</td>\n      <td>0.0</td>\n      <td>0.666667</td>\n      <td>0.5</td>\n      <td>0.0</td>\n      <td>0.875</td>\n      <td>0.8</td>\n      <td>0.666667</td>\n    </tr>\n    <tr>\n      <th>1</th>\n      <td>0.0</td>\n      <td>0.6</td>\n      <td>1.0</td>\n      <td>0.222222</td>\n      <td>1.0</td>\n      <td>0.625</td>\n      <td>1.0</td>\n      <td>0.0</td>\n      <td>0.0</td>\n      <td>0.909091</td>\n      <td>...</td>\n      <td>0.666667</td>\n      <td>0.875</td>\n      <td>0.875</td>\n      <td>0.0</td>\n      <td>0.666667</td>\n      <td>1.0</td>\n      <td>0.0</td>\n      <td>0.875</td>\n      <td>0.2</td>\n      <td>1.000000</td>\n    </tr>\n    <tr>\n      <th>2</th>\n      <td>1.0</td>\n      <td>0.4</td>\n      <td>1.0</td>\n      <td>0.333333</td>\n      <td>0.0</td>\n      <td>0.250</td>\n      <td>1.0</td>\n      <td>0.0</td>\n      <td>0.0</td>\n      <td>0.181818</td>\n      <td>...</td>\n      <td>0.333333</td>\n      <td>0.000</td>\n      <td>0.500</td>\n      <td>0.0</td>\n      <td>0.666667</td>\n      <td>0.5</td>\n      <td>0.5</td>\n      <td>0.125</td>\n      <td>0.8</td>\n      <td>0.166667</td>\n    </tr>\n    <tr>\n      <th>3</th>\n      <td>0.0</td>\n      <td>1.0</td>\n      <td>0.0</td>\n      <td>0.888889</td>\n      <td>0.0</td>\n      <td>0.625</td>\n      <td>1.0</td>\n      <td>1.0</td>\n      <td>0.0</td>\n      <td>0.636364</td>\n      <td>...</td>\n      <td>0.666667</td>\n      <td>0.875</td>\n      <td>0.875</td>\n      <td>0.0</td>\n      <td>0.666667</td>\n      <td>1.0</td>\n      <td>1.0</td>\n      <td>0.875</td>\n      <td>0.6</td>\n      <td>0.166667</td>\n    </tr>\n    <tr>\n      <th>4</th>\n      <td>0.0</td>\n      <td>0.4</td>\n      <td>0.5</td>\n      <td>0.444444</td>\n      <td>0.0</td>\n      <td>0.625</td>\n      <td>1.0</td>\n      <td>1.0</td>\n      <td>0.0</td>\n      <td>0.636364</td>\n      <td>...</td>\n      <td>0.000000</td>\n      <td>0.875</td>\n      <td>0.875</td>\n      <td>0.0</td>\n      <td>0.666667</td>\n      <td>0.5</td>\n      <td>0.0</td>\n      <td>0.375</td>\n      <td>0.0</td>\n      <td>0.166667</td>\n    </tr>\n  </tbody>\n</table>\n<p>5 rows × 23 columns</p>\n</div>"
     },
     "metadata": {},
     "execution_count": 81
    }
   ],
   "source": [
    "test.head()"
   ]
  },
  {
   "cell_type": "code",
   "execution_count": 82,
   "metadata": {},
   "outputs": [],
   "source": [
    "y_train = train[\"class\"].values    #prendo la colonna \"class\" e inserisco i valori in un array\n",
    "x_train = train.drop([\"class\"], axis=1).values   # Inserisco in un array di array tutte le altre features tranne la colonna \"class\"\n",
    "\n",
    "y_test = test[\"class\"].values\n",
    "x_test = test.drop([\"class\"], axis=1).values"
   ]
  },
  {
   "cell_type": "code",
   "execution_count": 87,
   "metadata": {},
   "outputs": [
    {
     "output_type": "stream",
     "name": "stdout",
     "text": [
      "Test Accuracy: 100.0%\n"
     ]
    }
   ],
   "source": [
    "# KNN Classification\n",
    "from sklearn.neighbors import KNeighborsClassifier\n",
    "\n",
    "knn = KNeighborsClassifier(n_neighbors=5)\n",
    "knn.fit(x_train,y_train)\n",
    "score = knn.score(x_train,y_train)\n",
    "print(\"Test Accuracy: {}%\".format(round(score*100,2)))"
   ]
  }
 ]
}